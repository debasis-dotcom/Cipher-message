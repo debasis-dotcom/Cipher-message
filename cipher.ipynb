{
 "cells": [
  {
   "cell_type": "markdown",
   "metadata": {},
   "source": [
    "### CIPHER"
   ]
  },
  {
   "cell_type": "markdown",
   "metadata": {},
   "source": [
    "Indian army is going to do a surprise attack on one of its enemies country. The President of India, the Supreme Commander of the Indian Army will be sending an alert message to all its commanding centers. As enemy would be monitoring the message, Indian army is going to encrypt(cipher) the message using basic encryption technique. A decoding key (number) would be sent secretly.\n",
    "\n",
    "I am assigned to develop a cipher program to encrypt the message. My cipher must rotate every character in the message by a fixed number making it unreadable by enemies.\n",
    "\n",
    "Given a single line of string 'S' containing alpha, numeric and symbols, followed by a number '0<=N<=1000'. Encrypt and print the resulting string.\n",
    "\n",
    "Note: The cipher only encrypts Alpha and Numeric. (A-Z, a-z, and 0-9) . All Symbols, such as - , ; %, remain unencrypted."
   ]
  },
  {
   "cell_type": "code",
   "execution_count": 40,
   "metadata": {},
   "outputs": [
    {
     "name": "stdout",
     "output_type": "stream",
     "text": [
      "Please enter your message -- All-convoYs-9-be:Alert1.\n",
      "\n",
      "Enter you key.\n",
      "\n",
      "Your key is - 12\n",
      "\n",
      "Please enter key in the range of 1-10\n",
      "\n",
      "Enter you key.\n",
      "\n",
      "Your key is - 5\n",
      "\n",
      "The ciphered message is', \n",
      "\n",
      "\n",
      "\tfqq-htsptsx-4-gj:fqjwy6.\n",
      "\n",
      "\n"
     ]
    }
   ],
   "source": [
    "import random\n",
    "def cipher(s):\n",
    "\n",
    "    rand=int(input(\"\\nEnter you key.\\n\\nYour key is - \"))\n",
    "    \n",
    "    while True:\n",
    "        if rand in range(1,11):\n",
    "\n",
    "            alph=\"abcdefghijklmnopqrstuvwxyz\"\n",
    "            num=\"1234567890\"\n",
    "\n",
    "            num=list(num)\n",
    "            l=list(alph)\n",
    "            s=list(s)\n",
    "            word=[]\n",
    "\n",
    "            for i in s:\n",
    "\n",
    "                i=i.lower()\n",
    "                if i in alph:\n",
    "                    number=l.index(i)+rand\n",
    "\n",
    "                    if number > 25:\n",
    "                        number=number-11\n",
    "                        new=l[number]\n",
    "                        word.append(new)\n",
    "                    else:\n",
    "                        new=l[number]\n",
    "                        word.append(new)\n",
    "\n",
    "                elif i in num:\n",
    "                    i=int(i)+rand\n",
    "\n",
    "                    if i>9:\n",
    "                        i=i-10\n",
    "                        word.append(str(i))\n",
    "\n",
    "                    else:\n",
    "                        word.append(str(i))\n",
    "\n",
    "                else:\n",
    "                    word.append(i)\n",
    "\n",
    "            ciphered=\"\".join(word)\n",
    "            print(\"\\nThe ciphered message is', \\n\\n\\n\\t{}\\n\\n\".format(ciphered))\n",
    "            break\n",
    "\n",
    "        else:\n",
    "            print(\"\\nPlease enter key in the range of 1-10\")\n",
    "            rand=int(input(\"\\nEnter you key.\\n\\nYour key is - \"))\n",
    "\n",
    "s=input(\"Please enter your message -- \")\n",
    "\n",
    "cipher(s)"
   ]
  },
  {
   "cell_type": "code",
   "execution_count": null,
   "metadata": {},
   "outputs": [],
   "source": []
  }
 ],
 "metadata": {
  "kernelspec": {
   "display_name": "Python 3",
   "language": "python",
   "name": "python3"
  },
  "language_info": {
   "codemirror_mode": {
    "name": "ipython",
    "version": 3
   },
   "file_extension": ".py",
   "mimetype": "text/x-python",
   "name": "python",
   "nbconvert_exporter": "python",
   "pygments_lexer": "ipython3",
   "version": "3.7.3"
  }
 },
 "nbformat": 4,
 "nbformat_minor": 2
}
